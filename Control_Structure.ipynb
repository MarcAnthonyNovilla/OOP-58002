{
  "nbformat": 4,
  "nbformat_minor": 0,
  "metadata": {
    "colab": {
      "provenance": [],
      "authorship_tag": "ABX9TyPaqLbO2P9LnUWiWui6QKca",
      "include_colab_link": true
    },
    "kernelspec": {
      "name": "python3",
      "display_name": "Python 3"
    },
    "language_info": {
      "name": "python"
    }
  },
  "cells": [
    {
      "cell_type": "markdown",
      "metadata": {
        "id": "view-in-github",
        "colab_type": "text"
      },
      "source": [
        "<a href=\"https://colab.research.google.com/github/MarcAnthonyNovilla/OOP-58002/blob/main/Control_Structure.ipynb\" target=\"_parent\"><img src=\"https://colab.research.google.com/assets/colab-badge.svg\" alt=\"Open In Colab\"/></a>"
      ]
    },
    {
      "cell_type": "code",
      "execution_count": 5,
      "metadata": {
        "colab": {
          "base_uri": "https://localhost:8080/"
        },
        "id": "GsqjUzEtioFo",
        "outputId": "48660672-e5af-4263-df51-83b2349fef1b"
      },
      "outputs": [
        {
          "output_type": "stream",
          "name": "stdout",
          "text": [
            "a is greater than b\n"
          ]
        }
      ],
      "source": [
        "#If Statement\n",
        "a =100\n",
        "b =50\n",
        "if a>b:\n",
        "  print(\"a is greater than b\")"
      ]
    },
    {
      "cell_type": "code",
      "source": [
        "#Elif Statement\n",
        "if a<b:\n",
        "  print(\"a is greater than b\")\n",
        "else:\n",
        "  print(\"a is less than b\")"
      ],
      "metadata": {
        "colab": {
          "base_uri": "https://localhost:8080/"
        },
        "id": "Sd_GAaoElR6x",
        "outputId": "cff87b4f-be4b-477e-c8c0-6fa2aa00e98b"
      },
      "execution_count": 7,
      "outputs": [
        {
          "output_type": "stream",
          "name": "stdout",
          "text": [
            "a is less than b\n"
          ]
        }
      ]
    },
    {
      "cell_type": "code",
      "source": [
        "#Else Statement\n",
        "if a<b:\n",
        "  print(\"a is greater than b\")\n",
        "elif a<b:\n",
        "  print(\"a is less than b\")\n",
        "else:\n",
        "  print(\"a is less than b\")"
      ],
      "metadata": {
        "colab": {
          "base_uri": "https://localhost:8080/"
        },
        "id": "cASzMutbl3a4",
        "outputId": "61204acb-232a-40c6-e2a9-6e8f56a24e31"
      },
      "execution_count": 12,
      "outputs": [
        {
          "output_type": "stream",
          "name": "stdout",
          "text": [
            "a is less than b\n"
          ]
        }
      ]
    },
    {
      "cell_type": "markdown",
      "source": [
        "Short Hand if..."
      ],
      "metadata": {
        "id": "8xxfvOYHmbZQ"
      }
    },
    {
      "cell_type": "code",
      "source": [
        "if a==b: print(\"a is equal to b\")"
      ],
      "metadata": {
        "id": "UuHE_V04me5v"
      },
      "execution_count": 11,
      "outputs": []
    },
    {
      "cell_type": "markdown",
      "source": [
        "Short Hand If...Else"
      ],
      "metadata": {
        "id": "6jMjAOY-msjo"
      }
    },
    {
      "cell_type": "code",
      "source": [
        "print(\"a is greater than b\") if a>b else print(\"a is less than b\")"
      ],
      "metadata": {
        "colab": {
          "base_uri": "https://localhost:8080/"
        },
        "id": "Ago622QwmsNw",
        "outputId": "392c30f0-5ca7-4dcb-a4a6-c48206ec26e7"
      },
      "execution_count": 10,
      "outputs": [
        {
          "output_type": "stream",
          "name": "stdout",
          "text": [
            "a is greater than b\n"
          ]
        }
      ]
    },
    {
      "cell_type": "markdown",
      "source": [
        "And Condition"
      ],
      "metadata": {
        "id": "keEczm2rnRzA"
      }
    },
    {
      "cell_type": "code",
      "source": [
        "s= 75\n",
        "t= 70\n",
        "if s>t and t<s:\n",
        "  print(\"s > t and t < s\")"
      ],
      "metadata": {
        "colab": {
          "base_uri": "https://localhost:8080/"
        },
        "id": "TCFHFyi5nUJH",
        "outputId": "d8861ac6-cba7-44b1-a277-ba1d22290856"
      },
      "execution_count": 17,
      "outputs": [
        {
          "output_type": "stream",
          "name": "stdout",
          "text": [
            "s > t and t < s\n"
          ]
        }
      ]
    },
    {
      "cell_type": "markdown",
      "source": [
        "Or Condition"
      ],
      "metadata": {
        "id": "ljWpjjh1n-z_"
      }
    },
    {
      "cell_type": "code",
      "source": [
        "print(\"s > t and t < s\")"
      ],
      "metadata": {
        "colab": {
          "base_uri": "https://localhost:8080/"
        },
        "id": "baoGamI9oFFv",
        "outputId": "2c4eaeed-395f-48a5-c369-dffe993d431d"
      },
      "execution_count": 18,
      "outputs": [
        {
          "output_type": "stream",
          "name": "stdout",
          "text": [
            "s > t and t < s\n"
          ]
        }
      ]
    },
    {
      "cell_type": "markdown",
      "source": [
        "Nested If..."
      ],
      "metadata": {
        "id": "t5Nje7N0oyB_"
      }
    },
    {
      "cell_type": "code",
      "source": [
        "x=float(input())\n",
        "if x>10:\n",
        "  print(\"above 10\")\n",
        "  if x>20:\n",
        "   print(\"above 20\")\n",
        "   if x>30:\n",
        "      print(\"above 30\")\n",
        "      if x>40:\n",
        "        print(\"above 40\")\n",
        "        if x>50:\n",
        "         print(\"above 50\")\n",
        "        else:\n",
        "         print(\"below 50\")\n",
        "      else:\n",
        "       print(\"below 40\")\n",
        "   else:\n",
        "     print(\"below 30\")\n",
        "  else:\n",
        "   print(\"below 20\")\n",
        "else:\n",
        "  print(\"below 10\")  "
      ],
      "metadata": {
        "colab": {
          "base_uri": "https://localhost:8080/"
        },
        "id": "klGl2_Evo3FX",
        "outputId": "e92b9957-c214-4e05-e614-8b02a9d04090"
      },
      "execution_count": 30,
      "outputs": [
        {
          "output_type": "stream",
          "name": "stdout",
          "text": [
            "41\n",
            "above 10\n",
            "above 20\n",
            "above 30\n",
            "above 40\n",
            "below 50\n"
          ]
        }
      ]
    },
    {
      "cell_type": "markdown",
      "source": [
        "Example 1"
      ],
      "metadata": {
        "id": "1Z6hA7M_tcD1"
      }
    },
    {
      "cell_type": "code",
      "source": [
        "x=int(input())\n",
        "if x>=18:\n",
        "  print(\"Qualified to vote\")\n",
        "else:\n",
        "  print(\"The Qualifying age is 18 years old and above\")"
      ],
      "metadata": {
        "colab": {
          "base_uri": "https://localhost:8080/"
        },
        "id": "-QFzQRcRtfFV",
        "outputId": "124b4894-3fdf-4204-9b8e-6ece5a8f38b9"
      },
      "execution_count": 33,
      "outputs": [
        {
          "output_type": "stream",
          "name": "stdout",
          "text": [
            "18\n",
            "Qualified to vote\n"
          ]
        }
      ]
    },
    {
      "cell_type": "markdown",
      "source": [
        "Example 2"
      ],
      "metadata": {
        "id": "AA_PeXWrtgft"
      }
    },
    {
      "cell_type": "code",
      "source": [
        "x=int(input())\n",
        "if x>0:\n",
        "  print(\"POSITIVE\")\n",
        "elif x==0:\n",
        "  print(\"ZERO\")\n",
        "else:\n",
        "  print(\"NEGATIVE\")"
      ],
      "metadata": {
        "colab": {
          "base_uri": "https://localhost:8080/"
        },
        "id": "dfyobm17tihl",
        "outputId": "d6c84ab2-3f5d-4fb7-bb6d-8040f9abb275"
      },
      "execution_count": 37,
      "outputs": [
        {
          "output_type": "stream",
          "name": "stdout",
          "text": [
            "0\n",
            "ZERO\n"
          ]
        }
      ]
    },
    {
      "cell_type": "markdown",
      "source": [
        "Example 3"
      ],
      "metadata": {
        "id": "x8IfaeL-tiw9"
      }
    },
    {
      "cell_type": "code",
      "source": [
        "x=float(input())\n",
        "if x>=70:\n",
        " print(\"Passed\")\n",
        "elif x<=0:\n",
        " print(\"Null\")\n",
        "elif x<=64:\n",
        " print(\"Failed\")\n",
        "else:\n",
        "  print(\"Remedial\")"
      ],
      "metadata": {
        "colab": {
          "base_uri": "https://localhost:8080/"
        },
        "id": "Au85rURftkSF",
        "outputId": "4d3d698a-b698-43be-ea94-0c2e2d5a06bc"
      },
      "execution_count": 53,
      "outputs": [
        {
          "output_type": "stream",
          "name": "stdout",
          "text": [
            "70\n",
            "Passed\n"
          ]
        }
      ]
    }
  ]
}