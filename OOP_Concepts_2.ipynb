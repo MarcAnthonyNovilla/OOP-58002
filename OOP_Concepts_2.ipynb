{
  "nbformat": 4,
  "nbformat_minor": 0,
  "metadata": {
    "colab": {
      "provenance": [],
      "authorship_tag": "ABX9TyOoJWpgf/1vm8N5hgdv3gAI",
      "include_colab_link": true
    },
    "kernelspec": {
      "name": "python3",
      "display_name": "Python 3"
    },
    "language_info": {
      "name": "python"
    }
  },
  "cells": [
    {
      "cell_type": "markdown",
      "metadata": {
        "id": "view-in-github",
        "colab_type": "text"
      },
      "source": [
        "<a href=\"https://colab.research.google.com/github/MarcAnthonyNovilla/OOP-58002/blob/main/OOP_Concepts_2.ipynb\" target=\"_parent\"><img src=\"https://colab.research.google.com/assets/colab-badge.svg\" alt=\"Open In Colab\"/></a>"
      ]
    },
    {
      "cell_type": "code",
      "execution_count": 36,
      "metadata": {
        "colab": {
          "base_uri": "https://localhost:8080/"
        },
        "id": "0EykPvvS2QM7",
        "outputId": "0459481e-7794-4052-f2d9-83bb503d5cdd"
      },
      "outputs": [
        {
          "output_type": "execute_result",
          "data": {
            "text/plain": [
              "13"
            ]
          },
          "metadata": {},
          "execution_count": 36
        }
      ],
      "source": [
        "#Mangling with __ double underscore\n",
        "class foo:\n",
        "  def __init__(self,a,b):\n",
        "    self.a = a\n",
        "    self.b = b\n",
        "  def add(self):\n",
        "    return self.a + self.b\n",
        "foo_object = foo(3,4)\n",
        "foo_object.add()\n",
        "foo_object.a = 7\n",
        "foo_object.b = 6\n",
        "foo_object.add()"
      ]
    },
    {
      "cell_type": "code",
      "source": [
        "#Class with multiple objects\n",
        "\n",
        "class birds:\n",
        "  def __init__(self,name_birds):\n",
        "    self.name_birds = name_birds\n",
        "  def flying_birds(self):\n",
        "    print(f\"The{self.name_birds} is the flying bird above\")\n",
        "  def non_flying_birds(self):\n",
        "    print(f\"the{self.name_birds} is the non flying birds\")\n",
        "\n",
        "eagle = birds(\"Eagle\")\n",
        "chicken = birds(\"Chicken\")\n",
        "eagle.flying_birds()\n",
        "chicken.non_flying_birds()"
      ],
      "metadata": {
        "colab": {
          "base_uri": "https://localhost:8080/"
        },
        "id": "sah24ra99Lhp",
        "outputId": "b8b3790d-dbc6-48c5-b767-94484698f4c0"
      },
      "execution_count": 15,
      "outputs": [
        {
          "output_type": "stream",
          "name": "stdout",
          "text": [
            "TheEagle is the flying bird above\n",
            "theChicken is the non flying birds\n"
          ]
        }
      ]
    },
    {
      "cell_type": "code",
      "source": [
        "#Encapsulation\n",
        "class foo:\n",
        "  def __init__(self,a,b):\n",
        "    self.__a = a\n",
        "    self.__b = b\n",
        "  def add(self):\n",
        "    return self.__a + self.__b\n",
        "\n",
        "foo_object = foo(3,4)\n",
        "foo_object.add()\n",
        "foo_object.a = 7\n",
        "foo_object.b = 6\n",
        "foo_object.add()"
      ],
      "metadata": {
        "colab": {
          "base_uri": "https://localhost:8080/"
        },
        "id": "XNRSRokl_Nr5",
        "outputId": "1f6363f8-3bc7-4fa3-f3a8-485cbb5c919b"
      },
      "execution_count": 37,
      "outputs": [
        {
          "output_type": "execute_result",
          "data": {
            "text/plain": [
              "7"
            ]
          },
          "metadata": {},
          "execution_count": 37
        }
      ]
    },
    {
      "cell_type": "code",
      "source": [
        "#Inheritance\n",
        "class Person:\n",
        "  def __init__(self,name,birthdate):\n",
        "    self.name = name\n",
        "    self.birthdate = birthdate\n",
        "  def display(self):\n",
        "    print(\"My name is\",self.name)\n",
        "    print(\"My birthdate is\",self.birthdate)\n",
        "class Student(Person):\n",
        " pass\n",
        "\n",
        "person = Person(\"Marc\",\"August 27,2003\")\n",
        "person.display()\n",
        "\n",
        "student = Student(\"Anthony\",\"august 28,2004\")\n",
        "student.display()"
      ],
      "metadata": {
        "colab": {
          "base_uri": "https://localhost:8080/"
        },
        "id": "nF7xynuEAsuI",
        "outputId": "5b77ff25-4e87-4ba3-b9ed-e2ca218769e0"
      },
      "execution_count": 19,
      "outputs": [
        {
          "output_type": "stream",
          "name": "stdout",
          "text": [
            "My name is Marc\n",
            "My birthdate is August 27,2003\n",
            "My name is Anthony\n",
            "My birthdate is august 28,2004\n"
          ]
        }
      ]
    },
    {
      "cell_type": "code",
      "source": [
        "class Shape:\n",
        "  def __init__(self,name,side):\n",
        "    self.__name = name\n",
        "    self.__side = side\n",
        "  def display(self):\n",
        "    print(self.__name, \"is the shape\")\n",
        "    print(f\"It has {self.__side} amount of sides\")\n",
        "class Square(Shape):\n",
        "  pass\n",
        "class Heptagon(Shape):\n",
        "  pass\n",
        "class Pentagon(Shape):\n",
        "  pass\n",
        "class Hexagon(Shape):\n",
        "  pass\n",
        "shape = Shape(\"Triangle\",\"3\")\n",
        "shape.display()\n",
        "\n",
        "square = Square(\"Square\",\"4\")\n",
        "square.display()\n",
        "\n",
        "heptagon = Heptagon(\"Heptagon\",\"5\")\n",
        "heptagon.display()\n",
        "\n",
        "pentagon = Pentagon(\"Pentagon\",\"6\")\n",
        "pentagon.display()\n",
        "\n",
        "hexagon = Hexagon(\"Hexagon\",\"7\")\n",
        "hexagon.display()"
      ],
      "metadata": {
        "colab": {
          "base_uri": "https://localhost:8080/"
        },
        "id": "a24lXYnmEBnp",
        "outputId": "0389a2e5-ed01-491a-c24d-ac380207b36b"
      },
      "execution_count": 34,
      "outputs": [
        {
          "output_type": "stream",
          "name": "stdout",
          "text": [
            "Triangle is the shape\n",
            "It has 3 amount of sides\n",
            "Square is the shape\n",
            "It has 4 amount of sides\n",
            "Heptagon is the shape\n",
            "It has 5 amount of sides\n",
            "Pentagon is the shape\n",
            "It has 6 amount of sides\n",
            "Hexagon is the shape\n",
            "It has 7 amount of sides\n"
          ]
        }
      ]
    }
  ]
}