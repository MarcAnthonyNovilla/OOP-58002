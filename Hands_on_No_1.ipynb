{
  "nbformat": 4,
  "nbformat_minor": 0,
  "metadata": {
    "colab": {
      "provenance": [],
      "authorship_tag": "ABX9TyOaAiK3+Va3OLYh6KdvA6t9",
      "include_colab_link": true
    },
    "kernelspec": {
      "name": "python3",
      "display_name": "Python 3"
    },
    "language_info": {
      "name": "python"
    }
  },
  "cells": [
    {
      "cell_type": "markdown",
      "metadata": {
        "id": "view-in-github",
        "colab_type": "text"
      },
      "source": [
        "<a href=\"https://colab.research.google.com/github/MarcAnthonyNovilla/OOP-58002/blob/main/Hands_on_No_1.ipynb\" target=\"_parent\"><img src=\"https://colab.research.google.com/assets/colab-badge.svg\" alt=\"Open In Colab\"/></a>"
      ]
    },
    {
      "cell_type": "markdown",
      "source": [
        "Hand on No.1\n",
        "\n",
        "1. Create a Python Program that displays the name of the students(Student 1, Student 2, Student 3) and the term grades\n",
        "\n",
        "2. create class name person and attributes std1,std2,std3,pre,mid,fin\n",
        "\n",
        "3. Corporate the average of ech of the term grade using the Grade() method\n",
        "\n",
        "4. Information about students gradesmust be hidden from others"
      ],
      "metadata": {
        "id": "S8xj8lTc-yPu"
      }
    },
    {
      "cell_type": "code",
      "source": [
        "class Person:\n",
        "  def __init__(self,student,pre,mid,fin):\n",
        "    self.student = student\n",
        "    self.pre = pre\n",
        "    self.mid = mid\n",
        "    self.fin = fin\n",
        "  def Grade(self):\n",
        "    return(self.pre+self.mid+self.fin)/3\n",
        "  def display(self):\n",
        "    print(f\"The Grade of {self.student} Prelim is {self.pre}, Midterm is {self.mid}, Finals is {self.fin}, The average is{self.Grade()}\")\n",
        "class Student1(Person):\n",
        "  pass\n",
        "class Student2(Person):\n",
        "  pass\n",
        "class Student3(Person):\n",
        "  pass\n",
        "\n",
        "Student1 = Person(\"Martin\",88,89,90)\n",
        "Student1.display()\n",
        "\n",
        "Student2 = Person(\"Villeza\",81,80,85)\n",
        "Student2.display()\n",
        "\n",
        "Student3 = Person(\"Querez\",70,79,80)\n",
        "Student3.display()"
      ],
      "metadata": {
        "id": "SHNDvICTIJYY",
        "colab": {
          "base_uri": "https://localhost:8080/"
        },
        "outputId": "2715edbe-20f7-4286-bf20-164f361c18e2"
      },
      "execution_count": 8,
      "outputs": [
        {
          "output_type": "stream",
          "name": "stdout",
          "text": [
            "The Grade of Martin Prelim is 88, Midterm is 89, Finals is 90, The average is89.0\n",
            "The Grade of Villeza Prelim is 81, Midterm is 80, Finals is 85, The average is82.0\n",
            "The Grade of Querez Prelim is 70, Midterm is 79, Finals is 80, The average is76.33333333333333\n"
          ]
        }
      ]
    }
  ]
}