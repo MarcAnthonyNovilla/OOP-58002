{
  "nbformat": 4,
  "nbformat_minor": 0,
  "metadata": {
    "colab": {
      "provenance": [],
      "authorship_tag": "ABX9TyM7uLEvDeIlSNKrUPbkPs0O",
      "include_colab_link": true
    },
    "kernelspec": {
      "name": "python3",
      "display_name": "Python 3"
    },
    "language_info": {
      "name": "python"
    }
  },
  "cells": [
    {
      "cell_type": "markdown",
      "metadata": {
        "id": "view-in-github",
        "colab_type": "text"
      },
      "source": [
        "<a href=\"https://colab.research.google.com/github/MarcAnthonyNovilla/OOP-58002/blob/main/Function.ipynb\" target=\"_parent\"><img src=\"https://colab.research.google.com/assets/colab-badge.svg\" alt=\"Open In Colab\"/></a>"
      ]
    },
    {
      "cell_type": "code",
      "execution_count": 11,
      "metadata": {
        "colab": {
          "base_uri": "https://localhost:8080/"
        },
        "id": "iM2fXHMuziwm",
        "outputId": "8e63c7e5-ee0f-4154-cfdf-5c0877e5abe9"
      },
      "outputs": [
        {
          "output_type": "execute_result",
          "data": {
            "text/plain": [
              "50"
            ]
          },
          "metadata": {},
          "execution_count": 11
        }
      ],
      "source": [
        "class shape:\n",
        "  def __init__(self, length, width):\n",
        "    self.length = length\n",
        "    self.width = width \n",
        "\n",
        "  def area_rec(self):\n",
        "      return self.length*self.width\n",
        "    #def area_sqr(self,side):\n",
        "     # return self.side*self.side\n",
        "\n",
        "rectangle = shape(10,5)\n",
        "rectangle.area_rec()"
      ]
    },
    {
      "cell_type": "markdown",
      "source": [
        "Create a function that will display your full name and name your class as person"
      ],
      "metadata": {
        "id": "GJ7d0QPS3gab"
      }
    },
    {
      "cell_type": "code",
      "source": [
        "def name():\n",
        "  return \"Novilla, Marc Anthony P.\"\n",
        "print(\"My full name is \" + name())"
      ],
      "metadata": {
        "colab": {
          "base_uri": "https://localhost:8080/"
        },
        "id": "E4gO4ViY4vUS",
        "outputId": "58f13f25-75fc-434c-9b97-fe73b18dbc31"
      },
      "execution_count": 16,
      "outputs": [
        {
          "output_type": "stream",
          "name": "stdout",
          "text": [
            "My full name is Novilla, Marc Anthony P.\n"
          ]
        }
      ]
    }
  ]
}