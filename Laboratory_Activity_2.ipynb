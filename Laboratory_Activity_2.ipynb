{
  "nbformat": 4,
  "nbformat_minor": 0,
  "metadata": {
    "colab": {
      "provenance": [],
      "authorship_tag": "ABX9TyNw4+sn9qHV8PVwIIC9Iox6",
      "include_colab_link": true
    },
    "kernelspec": {
      "name": "python3",
      "display_name": "Python 3"
    },
    "language_info": {
      "name": "python"
    }
  },
  "cells": [
    {
      "cell_type": "markdown",
      "metadata": {
        "id": "view-in-github",
        "colab_type": "text"
      },
      "source": [
        "<a href=\"https://colab.research.google.com/github/MarcAnthonyNovilla/OOP-58002/blob/main/Laboratory_Activity_2.ipynb\" target=\"_parent\"><img src=\"https://colab.research.google.com/assets/colab-badge.svg\" alt=\"Open In Colab\"/></a>"
      ]
    },
    {
      "cell_type": "code",
      "execution_count": 1,
      "metadata": {
        "colab": {
          "base_uri": "https://localhost:8080/"
        },
        "id": "RIVXc2ZB1gBz",
        "outputId": "54eb85f0-36c3-4649-efc8-92f188f3e722"
      },
      "outputs": [
        {
          "output_type": "stream",
          "name": "stdout",
          "text": [
            "Enter the radius: 12\n",
            "The Area of the circle is: 452.3893421169302\n",
            "The Perimeter of the circle is: 75.39822368615503\n"
          ]
        }
      ],
      "source": [
        "class Circle:\n",
        "  def __init__(self,radius):\n",
        "    self.radius = radius\n",
        "    import math\n",
        "    self.pi = math.pi\n",
        "  \n",
        "  def area(self):\n",
        "    return self.pi*self.radius**2\n",
        "  \n",
        "  def perimeter(self):\n",
        "    return 2*self.pi*self.radius\n",
        "  \n",
        "  def display(self):\n",
        "    print(\"The Area of the circle is:\", self.area())\n",
        "    print(\"The Perimeter of the circle is:\", self.perimeter())\n",
        "  \n",
        "circle = Circle(float(input(\"Enter the radius: \")))\n",
        "circle.display()"
      ]
    }
  ]
}