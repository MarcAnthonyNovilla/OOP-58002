{
  "nbformat": 4,
  "nbformat_minor": 0,
  "metadata": {
    "colab": {
      "provenance": [],
      "authorship_tag": "ABX9TyNulfnBrOowjhJUpAShZjO9",
      "include_colab_link": true
    },
    "kernelspec": {
      "name": "python3",
      "display_name": "Python 3"
    },
    "language_info": {
      "name": "python"
    }
  },
  "cells": [
    {
      "cell_type": "markdown",
      "metadata": {
        "id": "view-in-github",
        "colab_type": "text"
      },
      "source": [
        "<a href=\"https://colab.research.google.com/github/MarcAnthonyNovilla/OOP-58002/blob/main/OOP_Concepts.ipynb\" target=\"_parent\"><img src=\"https://colab.research.google.com/assets/colab-badge.svg\" alt=\"Open In Colab\"/></a>"
      ]
    },
    {
      "cell_type": "code",
      "execution_count": 5,
      "metadata": {
        "colab": {
          "base_uri": "https://localhost:8080/"
        },
        "id": "neOdXaWNuZKG",
        "outputId": "ba8ffa53-8dbd-46a2-b547-50f17eb6b4d7"
      },
      "outputs": [
        {
          "output_type": "stream",
          "name": "stdout",
          "text": [
            "4\n"
          ]
        }
      ],
      "source": [
        "#Creaation of Class\n",
        "\n",
        "class myClass:        #name of class\n",
        "  y = 4               #property name\n",
        "\n",
        "p1 = myClass()        #create an object named p1\n",
        "print(p1.y)           #print the value of y"
      ]
    },
    {
      "cell_type": "code",
      "source": [
        "class myclass:\n",
        "  pass"
      ],
      "metadata": {
        "id": "6KpZ85d3x5yX"
      },
      "execution_count": 6,
      "outputs": []
    },
    {
      "cell_type": "code",
      "source": [
        "#Creation of Method\n",
        "\n",
        "class Persons:\n",
        "  def __init__(self,name,age):\n",
        "    self.name = name\n",
        "    self.age = age\n",
        "\n",
        "  def myfunction(self):\n",
        "    print(\"Hello, my name is\", self.name)\n",
        "\n",
        "teacher = Persons(\"Maria\",40)\n",
        "teacher.myfunction()"
      ],
      "metadata": {
        "colab": {
          "base_uri": "https://localhost:8080/"
        },
        "id": "dw_z-1wXyBok",
        "outputId": "a29d4bdb-7e7d-4fb6-a407-dbe77cca98f6"
      },
      "execution_count": 9,
      "outputs": [
        {
          "output_type": "stream",
          "name": "stdout",
          "text": [
            "Hello, my name is Maria\n"
          ]
        }
      ]
    },
    {
      "cell_type": "code",
      "source": [
        "#Modification of Object Properties\n",
        "teacher.name = \"Ana\"\n",
        "teacher.myfunction()"
      ],
      "metadata": {
        "colab": {
          "base_uri": "https://localhost:8080/"
        },
        "id": "ujrHmjRBzfH0",
        "outputId": "a34ef782-b54a-4a4e-df9f-095ebc3f8534"
      },
      "execution_count": 10,
      "outputs": [
        {
          "output_type": "stream",
          "name": "stdout",
          "text": [
            "Hello, my name is Ana\n"
          ]
        }
      ]
    },
    {
      "cell_type": "code",
      "source": [
        "#Deletion of Object Properties\n",
        "\n",
        "print(teacher.name)\n"
      ],
      "metadata": {
        "colab": {
          "base_uri": "https://localhost:8080/"
        },
        "id": "pOi1EPv10FAJ",
        "outputId": "f5b93f69-f03f-402b-f222-189d93f2e000"
      },
      "execution_count": 11,
      "outputs": [
        {
          "output_type": "stream",
          "name": "stdout",
          "text": [
            "Ana\n"
          ]
        }
      ]
    },
    {
      "cell_type": "code",
      "source": [
        "class Shapes:\n",
        "  def __init__(self,side):\n",
        "    self.side = side\n",
        "\n",
        "  def area(self):\n",
        "    return self.side *self.side\n",
        "\n",
        "  def display(self):\n",
        "    print(\"The area of the square is\",self.area())\n",
        "\n",
        "square = Shapes(5)\n",
        "print(square.area())\n",
        "print(square.display())"
      ],
      "metadata": {
        "colab": {
          "base_uri": "https://localhost:8080/"
        },
        "id": "hev2AQQb7Amf",
        "outputId": "b3c46d2f-476a-4bac-b711-1f5f3f645810"
      },
      "execution_count": 2,
      "outputs": [
        {
          "output_type": "stream",
          "name": "stdout",
          "text": [
            "25\n",
            "The area of the square is 25\n",
            "None\n"
          ]
        }
      ]
    },
    {
      "cell_type": "code",
      "source": [
        "#Inheritance\n",
        "\n",
        "class Shapes:\n",
        "  def __init__(self,side1,side2):\n",
        "    self.side1 = side1\n",
        "    self.side2 = side2\n",
        "class Square(Shapes):\n",
        "  def area_square(self):\n",
        "    return self.side1*self.side1\n",
        "  def display_square(self):\n",
        "    print(\"The area of square is\",self.area_square())\n",
        "class Rectangle(Shapes):\n",
        "  def area_rectangle(self):\n",
        "    print(self.side1*self.side2)\n",
        "  def display_rectangle(self):\n",
        "    print(\"The area of rectangle is\",self.display_rectangle())\n",
        "\n",
        "square = Square(4,4)\n",
        "\n",
        "rectangle = Rectangle(10,5)\n",
        "\n",
        "square.display_square()\n",
        "rectangle.display_rectangle()"
      ],
      "metadata": {
        "id": "_mixwvqu7lfM"
      },
      "execution_count": null,
      "outputs": []
    },
    {
      "cell_type": "code",
      "source": [
        "#Create your own Python program that has the following:\n",
        "#Person as class name\n",
        "#Fullname, age, and shool as attributes\n",
        "#Identity() as method "
      ],
      "metadata": {
        "id": "LdAFIUie-c51"
      },
      "execution_count": null,
      "outputs": []
    },
    {
      "cell_type": "code",
      "source": [
        "class Persons:\n",
        "  def __init__(self,name,age,school):\n",
        "    self.name = name\n",
        "    self.age = age\n",
        "    self.school = school\n",
        "  def Identity(self):\n",
        "    print(\"Hello, my name is\", self.name, self.age, self.school)\n",
        "\n",
        "register = Persons(\"Marc Anthony P. Novilla\",19,\"Adamson University\")\n",
        "register.Identity()"
      ],
      "metadata": {
        "colab": {
          "base_uri": "https://localhost:8080/"
        },
        "id": "Rj5830boHibX",
        "outputId": "817c281d-6a9f-478d-87a4-2b660d21119f"
      },
      "execution_count": 24,
      "outputs": [
        {
          "output_type": "stream",
          "name": "stdout",
          "text": [
            "Hello, my name is Marc Anthony P. Novilla 19 Adamson University\n"
          ]
        }
      ]
    }
  ]
}