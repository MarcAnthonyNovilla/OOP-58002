{
  "nbformat": 4,
  "nbformat_minor": 0,
  "metadata": {
    "colab": {
      "provenance": [],
      "authorship_tag": "ABX9TyML0jQzJA7118oKMpi49+e5",
      "include_colab_link": true
    },
    "kernelspec": {
      "name": "python3",
      "display_name": "Python 3"
    },
    "language_info": {
      "name": "python"
    }
  },
  "cells": [
    {
      "cell_type": "markdown",
      "metadata": {
        "id": "view-in-github",
        "colab_type": "text"
      },
      "source": [
        "<a href=\"https://colab.research.google.com/github/MarcAnthonyNovilla/OOP-58002/blob/main/Laboratory_No_1.ipynb\" target=\"_parent\"><img src=\"https://colab.research.google.com/assets/colab-badge.svg\" alt=\"Open In Colab\"/></a>"
      ]
    },
    {
      "cell_type": "code",
      "execution_count": null,
      "metadata": {
        "colab": {
          "base_uri": "https://localhost:8080/"
        },
        "id": "OcnBv6xPn9Yq",
        "outputId": "76e16cc1-f4b1-416b-8a71-6f6930cfc69f"
      },
      "outputs": [
        {
          "output_type": "stream",
          "name": "stdout",
          "text": [
            "sum= 210\n",
            "Average= 10.5\n"
          ]
        }
      ],
      "source": [
        "n = 20\n",
        "t = n\n",
        "sum = 0\n",
        "avg = 0\n",
        "\n",
        "while n>=0:\n",
        " sum+=n\n",
        " n-=1\n",
        "print(\"sum=\", sum)\n",
        "avg=sum/t\n",
        "print(\"Average=\",avg)"
      ]
    }
  ]
}